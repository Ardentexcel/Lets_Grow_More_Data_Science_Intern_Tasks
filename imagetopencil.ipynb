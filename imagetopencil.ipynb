{
 "cells": [
  {
   "cell_type": "markdown",
   "id": "59bf1303-fd5a-4763-8a9d-1af501617020",
   "metadata": {},
   "source": [
    "Lets Grow More (LGMVIP) - \"DATA SCIENCE INTERN\"\n",
    "LGMVIP\n",
    "AUTHOR - PRACHI ADLAK\n",
    "BEGINNER LEVEL TASK\n",
    "TASK-3- Image to Pencil Sketch with Python:"
   ]
  },
  {
   "cell_type": "code",
   "execution_count": null,
   "id": "43574af3-5c1e-4f13-a5db-756428d9e2b9",
   "metadata": {},
   "outputs": [],
   "source": []
  },
  {
   "cell_type": "code",
   "execution_count": 1,
   "id": "61749bc2-ec1c-451f-a8c2-488546c81f1d",
   "metadata": {},
   "outputs": [
    {
     "name": "stdout",
     "output_type": "stream",
     "text": [
      "Requirement already satisfied: opencv-python in c:\\users\\dell\\anaconda3\\lib\\site-packages (4.6.0.66)\n",
      "Requirement already satisfied: numpy>=1.14.5 in c:\\users\\dell\\anaconda3\\lib\\site-packages (from opencv-python) (1.21.5)\n",
      "Note: you may need to restart the kernel to use updated packages.\n"
     ]
    }
   ],
   "source": [
    "pip install opencv-python"
   ]
  },
  {
   "cell_type": "code",
   "execution_count": 2,
   "id": "9eebafff-4988-4235-94d4-d1c7c3a79b22",
   "metadata": {},
   "outputs": [],
   "source": [
    "import cv2"
   ]
  },
  {
   "cell_type": "code",
   "execution_count": null,
   "id": "aedd1052-f36f-42a3-9b56-bb010c31d005",
   "metadata": {},
   "outputs": [],
   "source": [
    "from matplotlib import pyplot as plt\n",
    "import cv2\n",
    "im = cv2.imread(\"Desktop/dog.jpg\")\n",
    "color = cv2.cvtColor(im, cv2.COLOR_BGR2RGB)\n",
    "plt.imshow(color)\n",
    "plt.title('Image')\n",
    "plt.show()"
   ]
  },
  {
   "cell_type": "markdown",
   "id": "4c11ba87-195d-42b0-a38d-740829fc2835",
   "metadata": {},
   "source": [
    "Creating a new image by converting the original image to greyscale"
   ]
  },
  {
   "cell_type": "code",
   "execution_count": 4,
   "id": "dc777134-a6a6-4759-8074-c90d07aed7cb",
   "metadata": {},
   "outputs": [
    {
     "data": {
      "text/plain": [
       "-1"
      ]
     },
     "execution_count": 4,
     "metadata": {},
     "output_type": "execute_result"
    }
   ],
   "source": [
    "gray_image2 = cv2.cvtColor(im, cv2.COLOR_BGR2GRAY)\n",
    "cv2.imshow(\"dog\", gray_image2)\n",
    "cv2.waitKey(0)"
   ]
  },
  {
   "cell_type": "markdown",
   "id": "6856d422-f024-4c6f-b57c-7d2e17d2988f",
   "metadata": {},
   "source": [
    "Inverting the new grayscale image"
   ]
  },
  {
   "cell_type": "code",
   "execution_count": 5,
   "id": "819f25e0-3b5e-43cb-ae32-56d209cf032a",
   "metadata": {},
   "outputs": [
    {
     "data": {
      "text/plain": [
       "-1"
      ]
     },
     "execution_count": 5,
     "metadata": {},
     "output_type": "execute_result"
    }
   ],
   "source": [
    "inverted_image2 = 255 - gray_image2\n",
    "cv2.imshow(\"Inverted2\", inverted_image2)\n",
    "cv2.waitKey()"
   ]
  },
  {
   "cell_type": "markdown",
   "id": "13e5de28-239b-40ad-ae03-29ad8b499d63",
   "metadata": {},
   "source": [
    "Bluring the image by using the Gaussian Function in OpenCV"
   ]
  },
  {
   "cell_type": "code",
   "execution_count": null,
   "id": "249d3c3e-0f5b-4f70-8293-7dda3d30bae5",
   "metadata": {},
   "outputs": [],
   "source": [
    "blurred2 = cv2.GaussianBlur(inverted_image2, (21, 21), 0)"
   ]
  },
  {
   "cell_type": "markdown",
   "id": "c1fdca1b-0185-4e85-96cb-2a7489d0a932",
   "metadata": {},
   "source": [
    "Inverting the blurred image and then we can easily convert the image into a pencil sketch"
   ]
  },
  {
   "cell_type": "code",
   "execution_count": 7,
   "id": "af90dc45-db5a-4a83-af63-8d224ea4a5f8",
   "metadata": {},
   "outputs": [
    {
     "data": {
      "text/plain": [
       "-1"
      ]
     },
     "execution_count": 7,
     "metadata": {},
     "output_type": "execute_result"
    }
   ],
   "source": [
    "inverted_blurred2 = 255 - blurred2\n",
    "pencil_sketch2 = cv2.divide(gray_image2, inverted_blurred2, scale=256.0)\n",
    "cv2.imshow(\"Sketch2\", pencil_sketch2)\n",
    "cv2.waitKey(0)\n",
    "\n"
   ]
  },
  {
   "cell_type": "markdown",
   "id": "70d67078-a2d1-4e4b-9684-739047137ebe",
   "metadata": {},
   "source": [
    "looking at both the original image and the pencil sketch"
   ]
  },
  {
   "cell_type": "code",
   "execution_count": null,
   "id": "17c94a06-df1e-4892-9e53-e108dd096650",
   "metadata": {},
   "outputs": [],
   "source": [
    "cv2.imshow(\"original image2\", im)\n",
    "cv2.imshow(\"pencil sketch2\", pencil_sketch2)\n",
    "cv2.waitKey(0)"
   ]
  },
  {
   "cell_type": "code",
   "execution_count": null,
   "id": "c93c7e62",
   "metadata": {},
   "outputs": [],
   "source": []
  }
 ],
 "metadata": {
  "kernelspec": {
   "display_name": "Python 3 (ipykernel)",
   "language": "python",
   "name": "python3"
  },
  "language_info": {
   "codemirror_mode": {
    "name": "ipython",
    "version": 3
   },
   "file_extension": ".py",
   "mimetype": "text/x-python",
   "name": "python",
   "nbconvert_exporter": "python",
   "pygments_lexer": "ipython3",
   "version": "3.9.12"
  }
 },
 "nbformat": 4,
 "nbformat_minor": 5
}
